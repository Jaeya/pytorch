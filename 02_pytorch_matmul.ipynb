{
  "nbformat": 4,
  "nbformat_minor": 0,
  "metadata": {
    "colab": {
      "name": "02.pytorch_matmul.ipynb",
      "provenance": [],
      "collapsed_sections": [],
      "authorship_tag": "ABX9TyP8FCkNZgb9YSycFCaqjZ6t",
      "include_colab_link": true
    },
    "kernelspec": {
      "name": "python3",
      "display_name": "Python 3"
    },
    "language_info": {
      "name": "python"
    }
  },
  "cells": [
    {
      "cell_type": "markdown",
      "metadata": {
        "id": "view-in-github",
        "colab_type": "text"
      },
      "source": [
        "<a href=\"https://colab.research.google.com/github/Jaeya/pytorch/blob/main/02_pytorch_matmul.ipynb\" target=\"_parent\"><img src=\"https://colab.research.google.com/assets/colab-badge.svg\" alt=\"Open In Colab\"/></a>"
      ]
    },
    {
      "cell_type": "code",
      "metadata": {
        "id": "2wFlIc2KiQdy"
      },
      "source": [
        "# 텐서를 이용한 연산과 행렬곱"
      ],
      "execution_count": 1,
      "outputs": []
    },
    {
      "cell_type": "code",
      "metadata": {
        "id": "144BoFhzi54j"
      },
      "source": [
        "import torch"
      ],
      "execution_count": 2,
      "outputs": []
    },
    {
      "cell_type": "code",
      "metadata": {
        "colab": {
          "base_uri": "https://localhost:8080/"
        },
        "id": "1xB-G-nwi_uT",
        "outputId": "6ce48501-d8e0-4390-d20a-75c4fd711b0a"
      },
      "source": [
        "w = torch.randn(5,3, dtype=torch.float)\n",
        "x = torch.tensor([[1.0,2.0],[3.0,4.0],[5.0,6.0]])\n",
        "print(w)\n",
        "print(x)"
      ],
      "execution_count": 3,
      "outputs": [
        {
          "output_type": "stream",
          "name": "stdout",
          "text": [
            "tensor([[ 0.2873,  1.3628, -1.2007],\n",
            "        [-0.2942,  0.8378,  0.3209],\n",
            "        [-1.2123, -0.6967,  2.3404],\n",
            "        [-1.9286, -0.6638, -0.2997],\n",
            "        [ 1.1042,  0.7172, -0.5834]])\n",
            "tensor([[1., 2.],\n",
            "        [3., 4.],\n",
            "        [5., 6.]])\n"
          ]
        }
      ]
    },
    {
      "cell_type": "code",
      "metadata": {
        "colab": {
          "base_uri": "https://localhost:8080/"
        },
        "id": "YagJAXYNjWiz",
        "outputId": "8e27d121-931e-491c-9e7e-6af21a3e96fb"
      },
      "source": [
        "print(\"w size:\", w.size())\n",
        "print(\"x size:\", x.size())\n",
        "print(\"w:\", w)\n",
        "print(\"x:\", x)"
      ],
      "execution_count": 4,
      "outputs": [
        {
          "output_type": "stream",
          "name": "stdout",
          "text": [
            "w size: torch.Size([5, 3])\n",
            "x size: torch.Size([3, 2])\n",
            "w: tensor([[ 0.2873,  1.3628, -1.2007],\n",
            "        [-0.2942,  0.8378,  0.3209],\n",
            "        [-1.2123, -0.6967,  2.3404],\n",
            "        [-1.9286, -0.6638, -0.2997],\n",
            "        [ 1.1042,  0.7172, -0.5834]])\n",
            "x: tensor([[1., 2.],\n",
            "        [3., 4.],\n",
            "        [5., 6.]])\n"
          ]
        }
      ]
    },
    {
      "cell_type": "code",
      "metadata": {
        "colab": {
          "base_uri": "https://localhost:8080/"
        },
        "id": "c8XsFO7zkWnT",
        "outputId": "cdba6413-3edf-4b46-9bf6-c5b974056865"
      },
      "source": [
        "b = torch.randn(5,2, dtype=torch.float)\n",
        "print(\"b size:\", b.size())\n",
        "print(\"b:\" , b)"
      ],
      "execution_count": 6,
      "outputs": [
        {
          "output_type": "stream",
          "name": "stdout",
          "text": [
            "b size: torch.Size([5, 2])\n",
            "b: tensor([[ 0.7104, -0.9423],\n",
            "        [-0.2659, -1.1427],\n",
            "        [ 0.9625,  0.4098],\n",
            "        [ 0.0840, -0.2997],\n",
            "        [ 1.6705, -1.4144]])\n"
          ]
        }
      ]
    },
    {
      "cell_type": "code",
      "metadata": {
        "colab": {
          "base_uri": "https://localhost:8080/"
        },
        "id": "LZRU7N0nk-ai",
        "outputId": "a9898d3a-3ce7-4954-faf4-2e5b46cfd7b5"
      },
      "source": [
        "#[5,3] [3,2] => [5,2] \n",
        "wx = torch.mm(w,x) # 내적 matmul\n",
        "print(\"wx size:\" , wx.size())\n",
        "print(\"wx:\" , wx)"
      ],
      "execution_count": 7,
      "outputs": [
        {
          "output_type": "stream",
          "name": "stdout",
          "text": [
            "wx size: torch.Size([5, 2])\n",
            "wx: tensor([[-1.6280, -1.1786],\n",
            "        [ 3.8236,  4.6880],\n",
            "        [ 8.3993,  8.8307],\n",
            "        [-5.4187, -8.3109],\n",
            "        [ 0.3387,  1.5768]])\n"
          ]
        }
      ]
    },
    {
      "cell_type": "code",
      "metadata": {
        "colab": {
          "base_uri": "https://localhost:8080/"
        },
        "id": "Ej3V0CBrrHdz",
        "outputId": "344a2be0-a41f-49cf-eff7-71a60de1a4b7"
      },
      "source": [
        "#[5,2] + [5,2] => [5,2] 같은 위치 요소끼리 더한다\n",
        "result = wx + b\n",
        "print(\"result:\", result.size())\n",
        "print(\"result:\" , result)"
      ],
      "execution_count": 8,
      "outputs": [
        {
          "output_type": "stream",
          "name": "stdout",
          "text": [
            "result: torch.Size([5, 2])\n",
            "result: tensor([[-0.9176, -2.1208],\n",
            "        [ 3.5577,  3.5453],\n",
            "        [ 9.3619,  9.2404],\n",
            "        [-5.3347, -8.6106],\n",
            "        [ 2.0092,  0.1624]])\n"
          ]
        }
      ]
    },
    {
      "cell_type": "code",
      "metadata": {
        "id": "RYbPu7f6sIDp"
      },
      "source": [
        ""
      ],
      "execution_count": null,
      "outputs": []
    }
  ]
}