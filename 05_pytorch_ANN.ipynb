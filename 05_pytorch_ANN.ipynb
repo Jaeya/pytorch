{
  "nbformat": 4,
  "nbformat_minor": 0,
  "metadata": {
    "kernelspec": {
      "display_name": "Python 3",
      "language": "python",
      "name": "python3"
    },
    "language_info": {
      "codemirror_mode": {
        "name": "ipython",
        "version": 3
      },
      "file_extension": ".py",
      "mimetype": "text/x-python",
      "name": "python",
      "nbconvert_exporter": "python",
      "pygments_lexer": "ipython3",
      "version": "3.7.0"
    },
    "colab": {
      "name": "05.pytorch_ANN.ipynb",
      "provenance": [],
      "collapsed_sections": [],
      "include_colab_link": true
    }
  },
  "cells": [
    {
      "cell_type": "markdown",
      "metadata": {
        "id": "view-in-github",
        "colab_type": "text"
      },
      "source": [
        "<a href=\"https://colab.research.google.com/github/Jaeya/pytorch/blob/main/05_pytorch_ANN.ipynb\" target=\"_parent\"><img src=\"https://colab.research.google.com/assets/colab-badge.svg\" alt=\"Open In Colab\"/></a>"
      ]
    },
    {
      "cell_type": "markdown",
      "metadata": {
        "id": "bew150NYhFHz"
      },
      "source": [
        "# 파이토치로 구현하는 신경망\n",
        "\n",
        "## 신경망 모델 구현하기"
      ]
    },
    {
      "cell_type": "code",
      "metadata": {
        "id": "5WE4t_rqhFH2"
      },
      "source": [
        "import torch\n",
        "import numpy\n",
        "from sklearn.datasets import make_blobs\n",
        "import matplotlib.pyplot as plt\n",
        "import torch.nn.functional as F"
      ],
      "execution_count": 2,
      "outputs": []
    },
    {
      "cell_type": "code",
      "metadata": {
        "colab": {
          "base_uri": "https://localhost:8080/"
        },
        "id": "zFKxBl1shFH3",
        "outputId": "09dceb2a-b9a2-4f4d-f517-0670ca9d9057"
      },
      "source": [
        "n_dim = 2    #2차원\n",
        "# 80 개의 데이터를 생성\n",
        "# 차원은 2차원 = > (0.5,0.1) 이런 종류가 80개\n",
        "# 중심좌표\n",
        "# shuffle 임의의, 뒤섞는다\n",
        "# 중심좌표를 기준으로 분포 표준편차(중심좌표에서 어느정도 거리)\n",
        "\n",
        "# [1,1]좌표 중심 2차원 실수 , 정답 0\n",
        "# [-1,-1]좌표 중심 2차원 실수 , 정답 1\n",
        "# [1,-1]좌표 중심 2차원 실수 , 정답 2\n",
        "# [-1,1]좌표 중심 2차원 실수 , 정답 3\n",
        "\n",
        "x_train, y_train = make_blobs(n_samples=80, n_features=n_dim, centers=[[1,1],[-1,-1],[1,-1],[-1,1]], shuffle=True, cluster_std=0.3)\n",
        "x_test, y_test = make_blobs(n_samples=20, n_features=n_dim, centers=[[1,1],[-1,-1],[1,-1],[-1,1]], shuffle=True, cluster_std=0.3)\n",
        "\n",
        "for data in zip(x_train, y_train):\n",
        "  print(data)"
      ],
      "execution_count": 20,
      "outputs": [
        {
          "output_type": "stream",
          "name": "stdout",
          "text": [
            "(array([ 0.37004123, -0.74835569]), 2)\n",
            "(array([0.95819306, 1.22626232]), 0)\n",
            "(array([1.08014399, 0.95967514]), 0)\n",
            "(array([-0.98468834, -1.06175799]), 1)\n",
            "(array([-1.16764678,  0.90735044]), 3)\n",
            "(array([0.7522738 , 0.73410903]), 0)\n",
            "(array([1.13436803, 1.34570492]), 0)\n",
            "(array([-1.23823051,  1.01406461]), 3)\n",
            "(array([ 1.44209993, -0.65099882]), 2)\n",
            "(array([-1.34024156, -0.33513172]), 1)\n",
            "(array([-1.08996093,  0.41630545]), 3)\n",
            "(array([ 0.76650386, -0.78971904]), 2)\n",
            "(array([-0.68875263,  0.95195512]), 3)\n",
            "(array([ 1.11478407, -1.29948908]), 2)\n",
            "(array([-0.84815054,  1.23231868]), 3)\n",
            "(array([-1.0569133 ,  1.11603642]), 3)\n",
            "(array([ 1.12739218, -1.34873502]), 2)\n",
            "(array([0.58760634, 1.05282304]), 0)\n",
            "(array([-0.93100061,  1.39996805]), 3)\n",
            "(array([-0.70682991,  1.40476313]), 3)\n",
            "(array([-1.26204219, -0.71678886]), 1)\n",
            "(array([-0.93158513, -0.80016736]), 1)\n",
            "(array([-0.90359896, -1.25149723]), 1)\n",
            "(array([ 0.51905579, -0.97011821]), 2)\n",
            "(array([0.76499711, 0.67257927]), 0)\n",
            "(array([-0.81906293,  1.10719141]), 3)\n",
            "(array([-0.78532489, -0.68867651]), 1)\n",
            "(array([-0.82955061, -1.2386824 ]), 1)\n",
            "(array([0.8664214 , 1.42508724]), 0)\n",
            "(array([ 0.97567206, -0.99992156]), 2)\n",
            "(array([ 1.23985605, -0.32349756]), 2)\n",
            "(array([-0.91088374, -0.87230937]), 1)\n",
            "(array([0.90393091, 1.42691582]), 0)\n",
            "(array([1.41816154, 0.63370437]), 0)\n",
            "(array([-1.10822779, -1.14379771]), 1)\n",
            "(array([-1.04575769, -0.78180453]), 1)\n",
            "(array([-0.79862251,  1.19851912]), 3)\n",
            "(array([ 0.74061283, -1.31775741]), 2)\n",
            "(array([0.89578312, 0.50774965]), 0)\n",
            "(array([-1.00461759,  1.42954814]), 3)\n",
            "(array([-1.30164515, -1.00201257]), 1)\n",
            "(array([-0.78387361,  0.98348229]), 3)\n",
            "(array([ 0.50696343, -1.47154997]), 2)\n",
            "(array([ 1.13659414, -1.53439366]), 2)\n",
            "(array([0.89643541, 1.01209822]), 0)\n",
            "(array([ 0.73214217, -1.08973678]), 2)\n",
            "(array([ 1.0004076 , -1.18127049]), 2)\n",
            "(array([-0.9332565 , -0.90194185]), 1)\n",
            "(array([ 0.76424164, -0.79248457]), 2)\n",
            "(array([-1.08071512,  1.66758572]), 3)\n",
            "(array([-1.19898339, -1.42526475]), 1)\n",
            "(array([1.0657942 , 1.38234425]), 0)\n",
            "(array([-1.05303638,  1.57843097]), 3)\n",
            "(array([0.77924359, 1.39567198]), 0)\n",
            "(array([-0.96219759, -0.94673403]), 1)\n",
            "(array([-0.28786737, -1.31379833]), 1)\n",
            "(array([-0.81693158,  0.51091413]), 3)\n",
            "(array([0.89707642, 1.00581259]), 0)\n",
            "(array([0.92340594, 1.34502894]), 0)\n",
            "(array([-1.41822755,  0.76441247]), 3)\n",
            "(array([-1.1039659 , -1.13171232]), 1)\n",
            "(array([ 0.96333489, -1.49271959]), 2)\n",
            "(array([-1.06459885, -0.71412451]), 1)\n",
            "(array([-0.69669145, -1.33843253]), 1)\n",
            "(array([ 1.02887154, -1.26119232]), 2)\n",
            "(array([0.82475687, 0.99755876]), 0)\n",
            "(array([-0.86290305, -0.95828547]), 1)\n",
            "(array([-0.79818956, -0.64146565]), 1)\n",
            "(array([1.37379772, 0.91155576]), 0)\n",
            "(array([1.14266009, 1.45316177]), 0)\n",
            "(array([ 1.00968383, -1.07997794]), 2)\n",
            "(array([-0.56313509,  1.01183402]), 3)\n",
            "(array([ 1.02039274, -1.07364442]), 2)\n",
            "(array([0.55204561, 1.39542641]), 0)\n",
            "(array([ 1.06287223, -0.79977983]), 2)\n",
            "(array([-0.65411294,  1.04705849]), 3)\n",
            "(array([-1.16874993,  0.7911781 ]), 3)\n",
            "(array([ 0.55216916, -0.71776764]), 2)\n",
            "(array([-0.256281  ,  0.96878761]), 3)\n",
            "(array([1.06784975, 1.02006598]), 0)\n"
          ]
        }
      ]
    },
    {
      "cell_type": "code",
      "metadata": {
        "id": "mlCDO3MNhFH4"
      },
      "source": [
        "# 정답을 0, 1 = > 0 축소\n",
        "# 정답을 2, 3 = > 1 축소\n",
        "\n",
        "def label_map(y_, from_, to_):\n",
        "    y = numpy.copy(y_)  # y_ 복제\n",
        "    for f in from_:\n",
        "        y[y_ == f] = to_\n",
        "    return y\n",
        "\n",
        "y_train = label_map(y_train, [0, 1], 0)\n",
        "y_train = label_map(y_train, [2, 3], 1)\n",
        "y_test = label_map(y_test, [0, 1], 0)\n",
        "y_test = label_map(y_test, [2, 3], 1)"
      ],
      "execution_count": 21,
      "outputs": []
    },
    {
      "cell_type": "code",
      "metadata": {
        "colab": {
          "base_uri": "https://localhost:8080/",
          "height": 283
        },
        "id": "hGRPcFjqhFH4",
        "outputId": "743ec749-3368-4462-e457-efddbcc15743"
      },
      "source": [
        "# 우리가 만든 클러스터 점 집합을 화면에 표현\n",
        "# y가 None이면 점을 모두 * 로 표시\n",
        "# y가 입력되면 y값이 0이면 o표시 , 1이면 + 출력\n",
        "\n",
        "def vis_data(x,y = None, c = 'r'):\n",
        "    if y is None:\n",
        "        y = [None] * len(x)\n",
        "    for x_, y_ in zip(x,y):\n",
        "        if y_ is None:\n",
        "            plt.plot(x_[0], x_[1], '*',markerfacecolor='none', markeredgecolor=c)\n",
        "        else:\n",
        "            plt.plot(x_[0], x_[1], c+'o' if y_ == 0 else c+'+')\n",
        "\n",
        "plt.figure()\n",
        "vis_data(x_train, y_train, c='g')\n",
        "plt.show()\n",
        "\n",
        "type(x_train) "
      ],
      "execution_count": 31,
      "outputs": [
        {
          "output_type": "display_data",
          "data": {
            "image/png": "[encoded data removed]",
            "text/plain": [
              "<Figure size 432x288 with 1 Axes>"
            ]
          },
          "metadata": {
            "needs_background": "light"
          }
        },
        {
          "output_type": "execute_result",
          "data": {
            "text/plain": [
              "numpy.ndarray"
            ]
          },
          "metadata": {},
          "execution_count": 31
        }
      ]
    },
    {
      "cell_type": "code",
      "metadata": {
        "colab": {
          "base_uri": "https://localhost:8080/"
        },
        "id": "OuVrFWoDhFH5",
        "outputId": "3efdddc5-d49d-41fe-9ac4-ecc194824a95"
      },
      "source": [
        "x_train = torch.FloatTensor(x_train)\n",
        "print(x_train.shape)\n",
        "x_test = torch.FloatTensor(x_test)\n",
        "y_train = torch.FloatTensor(y_train)\n",
        "y_test = torch.FloatTensor(y_test)\n",
        "\n",
        "# pytorch의 신경망에 입력하기위해 tensor로 변경\n",
        "type(x_train)"
      ],
      "execution_count": 33,
      "outputs": [
        {
          "output_type": "stream",
          "name": "stdout",
          "text": [
            "torch.Size([80, 2])\n"
          ]
        },
        {
          "output_type": "execute_result",
          "data": {
            "text/plain": [
              "torch.Tensor"
            ]
          },
          "metadata": {},
          "execution_count": 33
        }
      ]
    },
    {
      "cell_type": "markdown",
      "metadata": {
        "id": "H_OmTwR0qtZg"
      },
      "source": [
        "#pytorch에서는 일반적으로 신경망을 설계할 때</br>\n",
        "#torch.nn.Module을 상속받아서 클래스를 만든다\n",
        "\n",
        "## 보통 클래스 내에 2개의 메서드를 구현한다\n",
        "<ol>\n",
        "  <li>생성자 __init__ : 신경망 구성 정보</li>\n",
        "  <li>순전파 forward : 신경망 구성</li>\n",
        "</ol>"
      ]
    },
    {
      "cell_type": "code",
      "metadata": {
        "id": "VCttn3ARhFH6"
      },
      "source": [
        "\n",
        "\n",
        "class NeuralNet(torch.nn.Module):\n",
        "        def __init__(self, input_size, hidden_size):\n",
        "            super(NeuralNet, self).__init__() # 서두에 이렇게 부모 생성자를 호출\n",
        "            self.input_size = input_size      # 입력 크기\n",
        "            self.hidden_size  = hidden_size   # 은닉층 크기\n",
        "            \n",
        "            # 일반적인 fc(fully connection) / Dense(밀집층)\n",
        "            # 입력 -> 은닉\n",
        "            self.linear_1 = torch.nn.Linear(self.input_size, self.hidden_size)\n",
        "            self.relu = torch.nn.ReLU()       # 활성화 함수 Relu\n",
        "            # 은닉 -> 출력 1개 \n",
        "            self.linear_2 = torch.nn.Linear(self.hidden_size, 1)\n",
        "            # 정답이 0, 1 두개이므로 시그모이드를 사용함\n",
        "            self.sigmoid = torch.nn.Sigmoid()\n",
        "\n",
        "\n",
        "        # 순전파 메서드   \n",
        "        def forward(self, input_tensor):\n",
        "            linear1 = self.linear_1(input_tensor)   # 입력값 -> 입력층 -> 은닉층\n",
        "            relu = self.relu(linear1)               # 은닉층을 거친 값에 Relu적용\n",
        "            linear2 = self.linear_2(relu)           # 은닉층 -> 출력\n",
        "            output = self.sigmoid(linear2)          # 출력층이 시그모이드를 통과\n",
        "            return output"
      ],
      "execution_count": 34,
      "outputs": []
    },
    {
      "cell_type": "code",
      "metadata": {
        "id": "1iIWSdC4hFH6"
      },
      "source": [
        "model = NeuralNet(2, 5)    # 생성자 __init__ 호출\n",
        "learning_rate = 0.03\n",
        "criterion = torch.nn.BCELoss()  # Binary Cross Entropy , 분류\n",
        "epochs = 2000\n",
        "# SGD(Stochatic Gradient Descent) : 확률적 경사하강법\n",
        "optimizer = torch.optim.SGD(model.parameters(), lr = learning_rate)"
      ],
      "execution_count": 8,
      "outputs": []
    },
    {
      "cell_type": "code",
      "metadata": {
        "colab": {
          "base_uri": "https://localhost:8080/"
        },
        "id": "-AnUowtshFH7",
        "outputId": "a2ea0e9f-ac5f-4d2a-8265-0bfab287fd09"
      },
      "source": [
        "# 학습을 하지 않은 상태에서 모델의 성능을 시험한다\n",
        "\n",
        "model.eval() # 시험모드로 전환\n",
        "output = model(x_test)  # model(x_test)  ==> model.forward(x_test)을 호출한 것이다\n",
        "output = output.squeeze() # 출력층의 차원을 1차원 감소한다\n",
        "test_loss_before = criterion(output, y_test) # 오차값을 얻는다\n",
        "# test_loss_before는 tensor객체이므로 , 일반 Scalar값(변수값)으로 얻기 위해 test_loss_before.item()으로 호출해준다\n",
        "print('Before Training, test loss is {}'.format(test_loss_before.item()))"
      ],
      "execution_count": 38,
      "outputs": [
        {
          "output_type": "stream",
          "name": "stdout",
          "text": [
            "Before Training, test loss is 0.3839067816734314\n"
          ]
        }
      ]
    },
    {
      "cell_type": "markdown",
      "metadata": {
        "id": "xiWCIRAZhFH7"
      },
      "source": [
        "오차값이 0.73 이 나왔습니다. 이정도의 오차를 가진 모델은 사실상 분류하는 능력이 없다고 봐도 무방합니다.\n",
        "자, 이제 드디어 인공신경망을 학습시켜 퍼포먼스를 향상시켜 보겠습니다."
      ]
    },
    {
      "cell_type": "code",
      "metadata": {
        "scrolled": true,
        "colab": {
          "base_uri": "https://localhost:8080/"
        },
        "id": "H2gr9AXFhFH8",
        "outputId": "9f1aab02-9cf0-42d6-840b-d9efc10c3ccd"
      },
      "source": [
        "for epoch in range(epochs):\n",
        "    model.train()           # 학습모드로 전환\n",
        "    optimizer.zero_grad()   # 기울기를 0으로 초기화\n",
        "    train_output = model(x_train)  # model.forward(x_train) - 순전파\n",
        "    train_loss = criterion(train_output.squeeze(), y_train) # 오차값\n",
        "    if epoch % 100 == 0:\n",
        "        print('Train loss at {} is {}'.format(epoch, train_loss.item()))\n",
        "    train_loss.backward()    # 오차역전파 == 오차값을 각 레이어에 전달\n",
        "    optimizer.step()         # 학습 - lr과 기울기로 w, b를 수정"
      ],
      "execution_count": 39,
      "outputs": [
        {
          "output_type": "stream",
          "name": "stdout",
          "text": [
            "Train loss at 0 is 0.3876282572746277\n",
            "Train loss at 100 is 0.3786921203136444\n",
            "Train loss at 200 is 0.37382078170776367\n",
            "Train loss at 300 is 0.3717566132545471\n",
            "Train loss at 400 is 0.36984387040138245\n",
            "Train loss at 500 is 0.3680359721183777\n",
            "Train loss at 600 is 0.3663173317909241\n",
            "Train loss at 700 is 0.364685595035553\n",
            "Train loss at 800 is 0.36319684982299805\n",
            "Train loss at 900 is 0.3618163466453552\n",
            "Train loss at 1000 is 0.360714852809906\n",
            "Train loss at 1100 is 0.35975614190101624\n",
            "Train loss at 1200 is 0.358876496553421\n",
            "Train loss at 1300 is 0.3580726981163025\n",
            "Train loss at 1400 is 0.35733622312545776\n",
            "Train loss at 1500 is 0.3567250370979309\n",
            "Train loss at 1600 is 0.3561871647834778\n",
            "Train loss at 1700 is 0.35570278763771057\n",
            "Train loss at 1800 is 0.3552592098712921\n",
            "Train loss at 1900 is 0.3548586964607239\n"
          ]
        }
      ]
    },
    {
      "cell_type": "code",
      "metadata": {
        "colab": {
          "base_uri": "https://localhost:8080/"
        },
        "id": "NEVMUKRqhFH8",
        "outputId": "4ea357a8-2eaf-4323-d820-048cd43b4e89"
      },
      "source": [
        "model.eval()  # 시험모드로 전환\n",
        "# 시험데이터 입력값과 시험데이터 정답을 비교해서 오차를 얻는다\n",
        "test_loss = criterion(model(x_test).squeeze(), y_test) \n",
        "print('After Training, test loss is {}'.format(test_loss.item()))"
      ],
      "execution_count": 11,
      "outputs": [
        {
          "output_type": "stream",
          "name": "stdout",
          "text": [
            "After Training, test loss is 0.382001668214798\n"
          ]
        }
      ]
    },
    {
      "cell_type": "markdown",
      "metadata": {
        "id": "cfsRxWn1hFH9"
      },
      "source": [
        "학습을 하기 전과 비교했을때 현저하게 줄어든 오차값을 확인 하실 수 있습니다.\n",
        "지금까지 인공신경망을 구현하고 학습시켜 보았습니다.\n",
        "이제 학습된 모델을 .pt 파일로 저장해 보겠습니다."
      ]
    },
    {
      "cell_type": "code",
      "metadata": {
        "colab": {
          "base_uri": "https://localhost:8080/"
        },
        "id": "IlYn3PaihFH9",
        "outputId": "cc75adc7-0e5b-4e65-eba5-db5c9e1c821a"
      },
      "source": [
        "# 모델을 파일로 저장한다\n",
        "torch.save(model.state_dict(), './model.pt')\n",
        "print('state_dict format of the model: {}'.format(model.state_dict()))"
      ],
      "execution_count": 12,
      "outputs": [
        {
          "output_type": "stream",
          "name": "stdout",
          "text": [
            "state_dict format of the model: OrderedDict([('linear_1.weight', tensor([[ 0.4637,  0.1238],\n",
            "        [-0.0423, -0.0868],\n",
            "        [-0.6718,  1.3319],\n",
            "        [-0.5255,  1.2008],\n",
            "        [ 1.2976,  1.6449]])), ('linear_1.bias', tensor([-0.6785, -0.1875, -0.3814, -0.1019, -0.4043])), ('linear_2.weight', tensor([[-0.2072,  0.3519,  1.4159,  0.9488, -2.0666]])), ('linear_2.bias', tensor([0.0115]))])\n"
          ]
        }
      ]
    },
    {
      "cell_type": "markdown",
      "metadata": {
        "id": "p1dSLYBUhFH9"
      },
      "source": [
        "`save()` 를 실행하고 나면 학습된 신경망의 가중치를 내포하는 model.pt 라는 파일이 생성됩니다. 아래 코드처럼 새로운 신경망 객체에 model.pt 속의 가중치값을 입력시키는 것 또한 가능합니다."
      ]
    },
    {
      "cell_type": "code",
      "metadata": {
        "colab": {
          "base_uri": "https://localhost:8080/"
        },
        "id": "_gHYRHe9hFH-",
        "outputId": "a751dcb6-b958-4d7c-e059-9040b0e2230a"
      },
      "source": [
        "# 같은 노드를 보유한 새로운 객체 생성\n",
        "new_model = NeuralNet(2, 5)\n",
        "# 기존 학습된 모델정보를 적용해준다\n",
        "new_model.load_state_dict(torch.load('./model.pt'))\n",
        "# 바로 시험에 들어간다\n",
        "new_model.eval()\n",
        "print('벡터 [-1, 1]이 레이블 1을 가질 확률은 {}'.format(new_model(torch.FloatTensor([-1,1])).item()))\n"
      ],
      "execution_count": 46,
      "outputs": [
        {
          "output_type": "stream",
          "name": "stdout",
          "text": [
            "벡터 [-1, 1]이 레이블 1을 가질 확률은 0.9791628122329712\n"
          ]
        }
      ]
    },
    {
      "cell_type": "code",
      "metadata": {
        "id": "yL4QA4vohRiv"
      },
      "source": [
        ""
      ],
      "execution_count": null,
      "outputs": []
    }
  ]
}