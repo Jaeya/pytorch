{
  "nbformat": 4,
  "nbformat_minor": 0,
  "metadata": {
    "colab": {
      "name": "03.pytorch_autograd.ipynb",
      "provenance": [],
      "authorship_tag": "ABX9TyP1J4gudp1kwcFXaIm79E70",
      "include_colab_link": true
    },
    "kernelspec": {
      "name": "python3",
      "display_name": "Python 3"
    },
    "language_info": {
      "name": "python"
    }
  },
  "cells": [
    {
      "cell_type": "markdown",
      "metadata": {
        "id": "view-in-github",
        "colab_type": "text"
      },
      "source": [
        "<a href=\"https://colab.research.google.com/github/Jaeya/pytorch/blob/main/03_pytorch_autograd.ipynb\" target=\"_parent\"><img src=\"https://colab.research.google.com/assets/colab-badge.svg\" alt=\"Open In Colab\"/></a>"
      ]
    },
    {
      "cell_type": "code",
      "metadata": {
        "id": "XwbsqtCjtTlP"
      },
      "source": [
        "# 일반적인 연산으로는 기울기를 구할 수 없고,\n",
        "# 다만 변수에 값을 저장할 뿐이다."
      ],
      "execution_count": 1,
      "outputs": []
    },
    {
      "cell_type": "code",
      "metadata": {
        "id": "av7uxC3dtsL5"
      },
      "source": [
        "import torch"
      ],
      "execution_count": 2,
      "outputs": []
    },
    {
      "cell_type": "code",
      "metadata": {
        "colab": {
          "base_uri": "https://localhost:8080/"
        },
        "id": "0uIG-siCttEB",
        "outputId": "0be48ba3-30c2-46ec-a70f-fc0107c9a9a0"
      },
      "source": [
        "x = 3.5\n",
        "y = x*x + 2\n",
        "print(x,y)"
      ],
      "execution_count": 3,
      "outputs": [
        {
          "output_type": "stream",
          "name": "stdout",
          "text": [
            "3.5 14.25\n"
          ]
        }
      ]
    },
    {
      "cell_type": "code",
      "metadata": {
        "id": "Dwrwg4JptwXQ"
      },
      "source": [
        "# pytorch의 tensor는 값을 저장하는 변수의 역할도 하지만\n",
        "# 연쇄법칙을 통한 기울기 구하는 것이 가능하다."
      ],
      "execution_count": 4,
      "outputs": []
    },
    {
      "cell_type": "code",
      "metadata": {
        "colab": {
          "base_uri": "https://localhost:8080/"
        },
        "id": "OQk_Z6hauFNg",
        "outputId": "71640ca5-3447-4240-d938-bb9799f83efe"
      },
      "source": [
        "x = torch.tensor(3.5)\n",
        "print(x)"
      ],
      "execution_count": 5,
      "outputs": [
        {
          "output_type": "stream",
          "name": "stdout",
          "text": [
            "tensor(3.5000)\n"
          ]
        }
      ]
    },
    {
      "cell_type": "code",
      "metadata": {
        "colab": {
          "base_uri": "https://localhost:8080/"
        },
        "id": "dGGqnLxiuM-Y",
        "outputId": "95480803-6083-4ee0-fef1-88aef3e39681"
      },
      "source": [
        "x = torch.tensor(3.5, requires_grad=True) # x를 통한 미분이 가능하다\n",
        "print(x)"
      ],
      "execution_count": 6,
      "outputs": [
        {
          "output_type": "stream",
          "name": "stdout",
          "text": [
            "tensor(3.5000, requires_grad=True)\n"
          ]
        }
      ]
    },
    {
      "cell_type": "code",
      "metadata": {
        "colab": {
          "base_uri": "https://localhost:8080/"
        },
        "id": "l1Y7bfozuaCR",
        "outputId": "3944d723-b3c2-4eda-b80a-25a5495cc0e1"
      },
      "source": [
        "y = (x-1) * (x-2) * (x-3)\n",
        "print(y)"
      ],
      "execution_count": 7,
      "outputs": [
        {
          "output_type": "stream",
          "name": "stdout",
          "text": [
            "tensor(1.8750, grad_fn=<MulBackward0>)\n"
          ]
        }
      ]
    },
    {
      "cell_type": "code",
      "metadata": {
        "id": "2WeQG4z1uqEJ"
      },
      "source": [
        "y.backward()"
      ],
      "execution_count": 8,
      "outputs": []
    },
    {
      "cell_type": "code",
      "metadata": {
        "colab": {
          "base_uri": "https://localhost:8080/"
        },
        "id": "H2PSvDM9vtK4",
        "outputId": "89f99c37-db69-4095-f4a5-b4555733f2f5"
      },
      "source": [
        "x.grad       # y값에 대한 x의 기울기(x가 변할 때 y는 어떻게 변하냐)"
      ],
      "execution_count": 9,
      "outputs": [
        {
          "output_type": "execute_result",
          "data": {
            "text/plain": [
              "tensor(5.7500)"
            ]
          },
          "metadata": {},
          "execution_count": 9
        }
      ]
    },
    {
      "cell_type": "code",
      "metadata": {
        "id": "rhLrrUgDvwfI"
      },
      "source": [
        "# 기울기 구하기 재실습"
      ],
      "execution_count": 10,
      "outputs": []
    },
    {
      "cell_type": "code",
      "metadata": {
        "colab": {
          "base_uri": "https://localhost:8080/"
        },
        "id": "gMFtDdghwO1Z",
        "outputId": "2bb6719d-e5fb-4611-b514-3e9a995e1f97"
      },
      "source": [
        "# w가 연쇄적인 함수를 통해 다른 tensor에 전달되어도\n",
        "# 해당 tensor에 미치는 영향(즉, 기울기)을 구하는 설정이\n",
        "# requires_grad=True이다.\n",
        "w = torch.tensor(1.0 , requires_grad=True)\n",
        "w"
      ],
      "execution_count": 12,
      "outputs": [
        {
          "output_type": "execute_result",
          "data": {
            "text/plain": [
              "tensor(1., requires_grad=True)"
            ]
          },
          "metadata": {},
          "execution_count": 12
        }
      ]
    },
    {
      "cell_type": "code",
      "metadata": {
        "colab": {
          "base_uri": "https://localhost:8080/"
        },
        "id": "N0dJXLM6wlOY",
        "outputId": "5ba4b833-7ced-4fc8-c038-bd2902e18853"
      },
      "source": [
        "a = w*3\n",
        "a"
      ],
      "execution_count": 13,
      "outputs": [
        {
          "output_type": "execute_result",
          "data": {
            "text/plain": [
              "tensor(3., grad_fn=<MulBackward0>)"
            ]
          },
          "metadata": {},
          "execution_count": 13
        }
      ]
    },
    {
      "cell_type": "code",
      "metadata": {
        "colab": {
          "base_uri": "https://localhost:8080/"
        },
        "id": "A0H7_a1cwqMJ",
        "outputId": "c131c92c-698c-48a8-d171-63762e9e3381"
      },
      "source": [
        "l = a**2\n",
        "l"
      ],
      "execution_count": 14,
      "outputs": [
        {
          "output_type": "execute_result",
          "data": {
            "text/plain": [
              "tensor(9., grad_fn=<PowBackward0>)"
            ]
          },
          "metadata": {},
          "execution_count": 14
        }
      ]
    },
    {
      "cell_type": "code",
      "metadata": {
        "colab": {
          "base_uri": "https://localhost:8080/"
        },
        "id": "8sy2uddzwvWQ",
        "outputId": "3647bb62-ecb2-412d-92b7-297378e4a880"
      },
      "source": [
        "l.backward()\n",
        "print('l을 w로 미분한 값은 {}'.format(w.grad))"
      ],
      "execution_count": 15,
      "outputs": [
        {
          "output_type": "stream",
          "name": "stdout",
          "text": [
            "l을 w로 미분한 값은 18.0\n"
          ]
        }
      ]
    },
    {
      "cell_type": "markdown",
      "metadata": {
        "id": "xAW_24_cxN80"
      },
      "source": [
        "l = a<sup>2</sup>=(3w)<sup>2</sup>=9w<sup>2</sup> => 2*9w<sup>2-1</sup>"
      ]
    },
    {
      "cell_type": "markdown",
      "metadata": {
        "id": "iGlEP43vyDHC"
      },
      "source": [
        "기울기 구하기 재실습"
      ]
    },
    {
      "cell_type": "code",
      "metadata": {
        "id": "DNMk_qJayG7P"
      },
      "source": [
        "a = torch.tensor(2.0, requires_grad=True)\n",
        "b = torch.tensor(1.0, requires_grad=True)\n",
        "\n",
        "x = 2*a + 3*b\n",
        "y = 5*a*a + 3*b*b*b\n",
        "z = 2*x + 3*y"
      ],
      "execution_count": 16,
      "outputs": []
    },
    {
      "cell_type": "code",
      "metadata": {
        "id": "TCecrCC3yV5e"
      },
      "source": [
        "z.backward()"
      ],
      "execution_count": 17,
      "outputs": []
    },
    {
      "cell_type": "code",
      "metadata": {
        "colab": {
          "base_uri": "https://localhost:8080/"
        },
        "id": "UeHzC6txyiTf",
        "outputId": "bddad7da-db63-4e18-ad25-0e9286c93538"
      },
      "source": [
        "print(a.grad, b.grad)"
      ],
      "execution_count": 19,
      "outputs": [
        {
          "output_type": "stream",
          "name": "stdout",
          "text": [
            "tensor(64.) tensor(33.)\n"
          ]
        }
      ]
    },
    {
      "cell_type": "code",
      "metadata": {
        "id": "qk6PlCSVymL4"
      },
      "source": [
        ""
      ],
      "execution_count": null,
      "outputs": []
    }
  ]
}